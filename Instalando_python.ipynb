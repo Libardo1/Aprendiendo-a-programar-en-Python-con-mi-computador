{
 "cells": [
  {
   "cell_type": "markdown",
   "metadata": {},
   "source": [
    "# <center><font color=red>     Instalando Python: un breve tutorial </font></center>"
   ]
  },
  {
   "cell_type": "markdown",
   "metadata": {},
   "source": [
    ">### [Sergio Rojas](http://prof.usb.ve/srojas)<br>\n",
    "[Departamento de F&iacute;sica](http://www.fis.usb.ve/), [Universidad Sim&oacute;n Bol&iacute;var](http://www.usb.ve/), [Venezuela](http://es.wikipedia.org/wiki/Venezuela)"
   ]
  },
  {
   "cell_type": "markdown",
   "metadata": {},
   "source": [
    ">### Content under [Creative Commons Attribution license CC-BY 4.0](http://creativecommons.org/licenses/by/4.0/), [code under MIT license (c)](http://en.wikipedia.org/wiki/MIT_License)2015-2016 Sergio Rojas (srojas@usb.ve).###"
   ]
  },
  {
   "cell_type": "markdown",
   "metadata": {},
   "source": [
    "# <font color=red>Sobre Python</font> #"
   ]
  },
  {
   "cell_type": "markdown",
   "metadata": {},
   "source": [
    "[Python](https://www.python.org/) es un lenguaje \n",
    "de programaci&oacute;n \n",
    "[multi-paradigma](http://en.wikipedia.org/wiki/Programming_paradigm#Multi-paradigm) que por \n",
    " satisfacer las exigencias de un lenguaje de programaci&oacute;n \n",
    "moderno (como programaci&oacute;n en funciones y orientada a objeto)\n",
    "<b>ha ganado mucha popularidad</b> en los &uacute;ltimos a&ntilde;os en el\n",
    "medio de la computaci&oacute;n cient&iacute;fica, gracias\n",
    "a que se han incorporado al mismo m&oacute;dulos que facilitan\n",
    "la tarea de c&oacute;mputo cient&iacute;fico tales como \n",
    "[NumPy](http://www.numpy.org/) y\n",
    "[SciPy](http://www.scipy.org/)\n",
    " (que incorporan bibliotecas de c&aacute;lculo en \n",
    "pr&aacute;cticamente todas las &aacute;reas que abarca\n",
    " el c&oacute;mputo num&eacute;rico), [Matplotlib](http://matplotlib.org/) (para \n",
    "satisfacer\n",
    "las necesidades de visualizaci&oacute;n), [SymPy](http://www.sympy.org/en/index.html) (para cubrir las necesidades de ejecutar c&oacute;mputo algebra&iacute;co o matem&aacute;tica simb&oacute;lica) y \n",
    "[mucho m&aacute;s](https://docs.python.org/3/py-modindex.html).\n",
    "\n",
    "En ese desarrollo, tambi&eacute;n se han incorporado a\n",
    "Python ambientes de programaci&oacute;n que hacen m&aacute;s\n",
    "amigable y eficiente la tarea de programar. Uno de tales ambientes \n",
    "es la [consola IPython](http://ipython.org/),\n",
    "que se ha extendido o ha evolucionado a la forma de una \n",
    "[libreta de notas (IPython Notebook)](http://ipython.org/notebook.html)\n",
    " que favorece la integraci&oacute;n en un navegador de la Internet,\n",
    "no solo el ambiente de programaci&oacute;n Python, sino tambi&eacute;n\n",
    "texto o notas asociados a los c&oacute;mputos que se\n",
    "realizan. Cabe mencionar que\n",
    "este tutorial es uno de los tantos [ejemplos](https://github.com/ipython/ipython/wiki/A-gallery-of-interesting-IPython-Notebooks) que se han escrito\n",
    "en el IPython (ahora [Jupyter](http://jupyter.org/)) Notebook."
   ]
  },
  {
   "cell_type": "markdown",
   "metadata": {},
   "source": [
    "# <font color=red>Instalando Python</font> #"
   ]
  },
  {
   "cell_type": "markdown",
   "metadata": {},
   "source": [
    "## Opci&oacute;n 1: [Descarga Anaconda](https://www.continuum.io/downloads) siguiendo el enlace que se muestra.\n",
    "\n",
    "<b>Alternativamente, puedes seguir el enlace que se muestra a continuaci&oacute;n. En caso que nada se muestre, entonces sigue el enlace mencionado anteriormente.</b>"
   ]
  },
  {
   "cell_type": "code",
   "execution_count": 29,
   "metadata": {
    "collapsed": false,
    "scrolled": false
   },
   "outputs": [],
   "source": [
    "from IPython.display import HTML"
   ]
  },
  {
   "cell_type": "code",
   "execution_count": 30,
   "metadata": {
    "collapsed": false,
    "scrolled": false
   },
   "outputs": [
    {
     "data": {
      "text/html": [
       "<iframe src=https://www.continuum.io/downloads/?useformat=mobile width=700 height=350></iframe>"
      ],
      "text/plain": [
       "<IPython.core.display.HTML object>"
      ]
     },
     "execution_count": 30,
     "metadata": {},
     "output_type": "execute_result"
    }
   ],
   "source": [
    "HTML('<iframe src=https://www.continuum.io/downloads/?useformat=mobile width=700 height=350></iframe>')"
   ]
  },
  {
   "cell_type": "markdown",
   "metadata": {},
   "source": [
    "## Opci&oacute;n 2: [Descarga Enthought Canopy](https://store.enthought.com/downloads/) siguiendo el enlace que se muestra.\n",
    "\n",
    "<b>Alternativamente, puedes seguir el enlace que se muestra a continuaci&oacute;n. En caso que nada se muestre, entonces sigue el enlace mencionado anteriormente.</b>"
   ]
  },
  {
   "cell_type": "code",
   "execution_count": 31,
   "metadata": {
    "collapsed": false,
    "scrolled": true
   },
   "outputs": [
    {
     "data": {
      "text/html": [
       "<iframe src=https://store.enthought.com/?useformat=mobile width=700 height=350></iframe>"
      ],
      "text/plain": [
       "<IPython.core.display.HTML object>"
      ]
     },
     "execution_count": 31,
     "metadata": {},
     "output_type": "execute_result"
    }
   ],
   "source": [
    "HTML('<iframe src=https://store.enthought.com/?useformat=mobile width=700 height=350></iframe>')"
   ]
  },
  {
   "cell_type": "markdown",
   "metadata": {},
   "source": [
    "<b>Once descargado, Instala Python usando un terminal Linux v&iacute;a el comando:</b>\n",
    "\n",
    "```    \n",
    "$ bash FILENAME\n",
    "```\n",
    "\n",
    "<b>Tendr&aacute;s que acetar los t&eacute;rminos de la licencia escribiendo <font color=red>yes</font> y presionando ENTER/RETURN. Luego tendr&aacute;s que presionar ENTER/RETURN nuevamente para instalar el programa en el directorio que se muestra por omisi&oacute;n. No obstante, i as&iacute; lo deseas, puedes elegir otro directorio de instalaci&oacute;n</b>"
   ]
  },
  {
   "cell_type": "markdown",
   "metadata": {},
   "source": [
    "## LOS SIGUIENTES VIDEOS MUESTRAN EL PROCESO##"
   ]
  },
  {
   "cell_type": "code",
   "execution_count": 1,
   "metadata": {
    "collapsed": false
   },
   "outputs": [],
   "source": [
    "from IPython.display import YouTubeVideo"
   ]
  },
  {
   "cell_type": "markdown",
   "metadata": {},
   "source": [
    "[Instalando Anaconda en Linux ](https://www.youtube.com/watch?v=NwyIuWK80gQ)"
   ]
  },
  {
   "cell_type": "code",
   "execution_count": 35,
   "metadata": {
    "collapsed": false
   },
   "outputs": [
    {
     "data": {
      "text/html": [
       "\n",
       "        <iframe\n",
       "            width=\"400\"\n",
       "            height=\"300\"\n",
       "            src=\"https://www.youtube.com/embed/x4xegDME5C0\"\n",
       "            frameborder=\"0\"\n",
       "            allowfullscreen\n",
       "        ></iframe>\n",
       "        "
      ],
      "text/plain": [
       "<IPython.lib.display.YouTubeVideo at 0x7f73e4157278>"
      ]
     },
     "execution_count": 35,
     "metadata": {},
     "output_type": "execute_result"
    }
   ],
   "source": [
    "YouTubeVideo('x4xegDME5C0')"
   ]
  },
  {
   "cell_type": "markdown",
   "metadata": {},
   "source": [
    "[Instalando Canopy en Linux ](https://www.youtube.com/watch?v=Ut7jHJAlKXU)"
   ]
  },
  {
   "cell_type": "code",
   "execution_count": 36,
   "metadata": {
    "collapsed": false
   },
   "outputs": [
    {
     "data": {
      "text/html": [
       "\n",
       "        <iframe\n",
       "            width=\"400\"\n",
       "            height=\"300\"\n",
       "            src=\"https://www.youtube.com/embed/XAV-QB-Y6iY\"\n",
       "            frameborder=\"0\"\n",
       "            allowfullscreen\n",
       "        ></iframe>\n",
       "        "
      ],
      "text/plain": [
       "<IPython.lib.display.YouTubeVideo at 0x7f73e4157470>"
      ]
     },
     "execution_count": 36,
     "metadata": {},
     "output_type": "execute_result"
    }
   ],
   "source": [
    "YouTubeVideo('XAV-QB-Y6iY')"
   ]
  },
  {
   "cell_type": "markdown",
   "metadata": {},
   "source": [
    "### **Nuestros libros sobre Python y SciPy**###"
   ]
  },
  {
   "cell_type": "markdown",
   "metadata": {},
   "source": [
    "<a href=\"https://github.com/rojassergio/Learning-Scipy\"><img src=\"./img/scipy_book_cover.png\" style=\"float: left; width: 30%; margin-right: 1%; margin-bottom: 0.5em;\"></a>\n",
    "<a href=\"https://github.com/rojassergio/Aprendiendo-a-programar-en-Python-con-mi-computador\"><img src=\"./img/portada.png\" style=\"float: left; width: 30%; margin-right: 1%; margin-bottom: 0.5em;\"></a>"
   ]
  },
  {
   "cell_type": "markdown",
   "metadata": {},
   "source": [
    ">### Content under [Creative Commons Attribution license CC-BY 4.0](http://creativecommons.org/licenses/by/4.0/), [code under MIT license (c)](http://en.wikipedia.org/wiki/MIT_License)2015-2016 Sergio Rojas (srojas@usb.ve). ###\n"
   ]
  }
 ],
 "metadata": {
  "kernelspec": {
   "display_name": "Python 3",
   "language": "python",
   "name": "python3"
  },
  "language_info": {
   "codemirror_mode": {
    "name": "ipython",
    "version": 3
   },
   "file_extension": ".py",
   "mimetype": "text/x-python",
   "name": "python",
   "nbconvert_exporter": "python",
   "pygments_lexer": "ipython3",
   "version": "3.5.1"
  },
  "widgets": {
   "state": {},
   "version": "1.1.2"
  }
 },
 "nbformat": 4,
 "nbformat_minor": 0
}
